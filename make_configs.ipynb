{
 "cells": [
  {
   "cell_type": "code",
   "execution_count": 6,
   "metadata": {},
   "outputs": [],
   "source": [
    "import os\n",
    "import json"
   ]
  },
  {
   "cell_type": "code",
   "execution_count": 7,
   "metadata": {},
   "outputs": [],
   "source": [
    "base_dir = \"config\"\n",
    "task = \"comparison_baseline\"\n",
    "model = \"lstm\"\n",
    "model_config = \"default\"\n",
    "interval_seconds_list = [1, 5, 15, 30, 60]\n",
    "embedding_size = 256\n",
    "hidden_size = 64\n",
    "num_layers = 2\n",
    "input_size_list = [100 * i for i in interval_seconds_list]\n",
    "\n",
    "for interval, input_size in zip(interval_seconds_list, input_size_list):\n",
    "    config_dict = {}\n",
    "    config_dict['input_size'] = input_size\n",
    "    config_dict['embedding_size'] = embedding_size\n",
    "    config_dict['hidden_size'] = hidden_size\n",
    "    config_dict['num_layers'] = num_layers\n",
    "    filename = f\"./{base_dir}/{task}/{model}_{model_config}_{interval}sec_config.json\"\n",
    "    with open(filename, \"w\") as file:\n",
    "        json.dump(config_dict, file)"
   ]
  },
  {
   "cell_type": "code",
   "execution_count": 8,
   "metadata": {},
   "outputs": [],
   "source": [
    "base_dir = \"config\"\n",
    "task = \"comparison_baseline\"\n",
    "model = \"xlstm\"\n",
    "model_config = \"default\"\n",
    "interval_seconds_list = [1, 5, 15, 30, 60]\n",
    "embedding_dim = 64\n",
    "input_size_list = [100 * i for i in interval_seconds_list]\n",
    "context_length_list = [int(600 // i) for i in interval_seconds_list]\n",
    "conv_params = 16\n",
    "ratio = \"7:1\"\n",
    "num_repeats = 1\n",
    "for interval, input_size, context_len in zip(interval_seconds_list, input_size_list, context_length_list):\n",
    "    num_mlstm = int(ratio[0])\n",
    "    num_slstm = int(ratio[-1])\n",
    "    num_cells = num_mlstm + num_slstm\n",
    "    if num_slstm == 1:\n",
    "        slstm_at = [1]\n",
    "    else:\n",
    "        slstm_at = []\n",
    "    config_dict = {}\n",
    "    config_dict['input_size'] = input_size\n",
    "    config_dict[\"conv1d_kernel_size\"] = conv_params\n",
    "    config_dict[\"qkv_proj_blocksize\"] = conv_params\n",
    "    config_dict[\"num_heads\"] = conv_params\n",
    "    config_dict['context_length'] = context_len\n",
    "    config_dict['num_blocks'] = num_cells\n",
    "    config_dict['embedding_dim'] = embedding_dim\n",
    "    config_dict['slstm_at'] = slstm_at\n",
    "    config_dict['num_reps'] = num_repeats\n",
    "    filename = f\"./{base_dir}/{task}/{model}_{model_config}_{interval}sec_config.json\"\n",
    "    with open(filename, \"w\") as file:\n",
    "        json.dump(config_dict, file)"
   ]
  },
  {
   "cell_type": "code",
   "execution_count": 9,
   "metadata": {},
   "outputs": [],
   "source": [
    "base_dir = \"config\"\n",
    "task = \"sLSTM_v_mLSTM\"\n",
    "model = \"xlstm\"\n",
    "model_configs = ['mlstm', 'slstm', 'xlstm']\n",
    "interval_seconds_list = [15, 30, 60]\n",
    "embedding_dim = 64\n",
    "input_size_list = [100 * i for i in interval_seconds_list]\n",
    "context_length_list = [int(600 // i) for i in interval_seconds_list]\n",
    "conv_params = 16\n",
    "ratios = [\"1:0\", \"0:1\", \"1:1\"]\n",
    "num_repeats = 1\n",
    "for model_config, ratio in zip(model_configs, ratios):\n",
    "    for interval, input_size, context_len in zip(interval_seconds_list, input_size_list, context_length_list):\n",
    "        num_mlstm = int(ratio[0])\n",
    "        num_slstm = int(ratio[-1])\n",
    "        num_cells = num_mlstm + num_slstm\n",
    "        if num_slstm == 1:\n",
    "            if num_cells == 1:\n",
    "                slstm_at = [0]\n",
    "            else:\n",
    "                slstm_at = [1]\n",
    "        else:\n",
    "            slstm_at = []\n",
    "        config_dict = {}\n",
    "        config_dict['input_size'] = input_size\n",
    "        config_dict[\"conv1d_kernel_size\"] = conv_params\n",
    "        config_dict[\"qkv_proj_blocksize\"] = conv_params\n",
    "        config_dict[\"num_heads\"] = conv_params\n",
    "        config_dict['context_length'] = context_len\n",
    "        config_dict['num_blocks'] = num_cells\n",
    "        config_dict['embedding_dim'] = embedding_dim\n",
    "        config_dict['slstm_at'] = slstm_at\n",
    "        config_dict['num_reps'] = num_repeats\n",
    "        filename = f\"./{base_dir}/{task}/{model}_{model_config}_{interval}sec_config.json\"\n",
    "        with open(filename, \"w\") as file:\n",
    "            json.dump(config_dict, file)"
   ]
  },
  {
   "cell_type": "code",
   "execution_count": null,
   "metadata": {},
   "outputs": [],
   "source": []
  }
 ],
 "metadata": {
  "kernelspec": {
   "display_name": "xlstm_env",
   "language": "python",
   "name": "python3"
  },
  "language_info": {
   "codemirror_mode": {
    "name": "ipython",
    "version": 3
   },
   "file_extension": ".py",
   "mimetype": "text/x-python",
   "name": "python",
   "nbconvert_exporter": "python",
   "pygments_lexer": "ipython3",
   "version": "3.12.2"
  }
 },
 "nbformat": 4,
 "nbformat_minor": 2
}
